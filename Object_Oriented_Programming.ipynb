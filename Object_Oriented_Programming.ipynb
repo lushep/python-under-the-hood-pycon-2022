{
 "cells": [
  {
   "cell_type": "markdown",
   "metadata": {},
   "source": [
    "<img src='images/cards.png' width='220px' align='right' style=\"padding: 15px\">\n",
    "\n",
    "# <mark style='background-color:white;color:#364069'>Python Under the Hood</mark>\n",
    "## <mark style='background-color:#1EB0E0;color:white'>What's so special about Python objects?</mark>\n",
    "\n",
    "***Everything in Python is an object***\n",
    "\n",
    "Hearing that phrase is very common, but understanding it, really understanding it, is something else. In this notebook you will work with objects and classes to understand object-oriented programming and how that applies to the Python data model.\n",
    "\n",
    "In particular this notebook covers:\n",
    "    \n",
    "---\n",
    "\n",
    "- [Introduction to OOP](#intro)\n",
    "    - [What is OOP?](#oop)\n",
    "    - [The learning investment](#invest)\n",
    "    - [Acknowledgements](#ack)\n",
    "    \n",
    "---\n",
    "\n",
    "- [Building a `Deck` of cards](#deck)\n",
    "    - [Classes, attributes and methods](#cam)\n",
    "    - [<mark>Exercise - Attributes and Methods</mark>](#ex-am)\n",
    "    - [Making a simple list of cards](#list)\n",
    "- [Creating the class for `Deck`](#class)\n",
    "    - [The `__init__` method](#init)\n",
    "    - [Adding attributes](#atts)\n",
    "    \n",
    "---\n",
    "    \n",
    "    \n",
    "- [Class methods](#methods)\n",
    "    - [Custom class methods](#custom)\n",
    "    - [<mark>Exercise - Count the cards</mark>](#ex-count)\n",
    "    - [Bonus: Mutability](#mutability)\n",
    "    - [<mark>Bonus Exercise: Mutability</mark>](#mutability)\n",
    "    \n",
    "---\n",
    "    \n",
    "    \n",
    "- [Dunder methods](#dunder)\n",
    "    - [Using the in-built `len()` function](#len)\n",
    "    - [`__str__`](#str)\n",
    "    - [<mark>Exercise</mark>](#ex-dunder)\n",
    "    \n",
    "---\n",
    "\n",
    "\n",
    "- [Better integration](#better)\n",
    "    - [Leading underscore](#leading)\n",
    "    - [Protecting variables further](#protected)\n",
    "    \n",
    "---\n",
    "\n",
    "\n",
    "- [Parent and child classes](#parent-child)\n",
    "    - [Creating a parent deck](#parent)\n",
    "    - [Creating a child deck](#child)\n",
    "    - [<mark>Exercise</mark>](#ex-theme)\n",
    "    \n",
    "---\n",
    "\n",
    "- [Conclusion](#conclusion)\n",
    "    \n",
    "---"
   ]
  },
  {
   "cell_type": "markdown",
   "metadata": {},
   "source": [
    "<a id='intro'></a>\n",
    "## Introduction to Object Oriented Programming\n",
    "\n",
    "***Everything in Python is an object***\n",
    "\n",
    "This is a phrase that is often heard but not a lot of time do we go into understanding what this actually means. This tutorial aims to add some sense and understanding to this phrase by introducing Object Oriented Programming (OOP) in Python to understand the Python data model. \n",
    "\n",
    "<a id='oop'></a>\n",
    "### What is OOP?\n",
    "\n",
    "Object-oriented programming (OOP) is a style of programming characterized by the identification of classes of objects closely linked with the methods (functions) with which they are associated. It also includes ideas of inheritance of attributes and methods.\n",
    "\n",
    "Python supports all the basic features of OOP language. Object-oriented programming has some advantages as a design pattern: Development is fast and cheap, with good software maintainability. \n",
    "\n",
    "<a id='invest'></a>\n",
    "### The learning investment\n",
    "\n",
    "So **do you need you the object-oriented approach in all your future code?**\n",
    "\n",
    "The simple answer is no, at the end of the day it is up to you. Working in this way can provide many benefits but just as with other design patterns, users are required to apply clean code for it to have those benefits. \n",
    "\n",
    "Python is not a object-oriented programming language through-and-through as it does not support all kinds of object-oriented principles (eg. encapsulation). Therefore the design pattern you choose to continue using after is just that, a choice and it is yours.\n",
    "\n",
    "Ultimately the goal of this tutorial is to give you enough information to learn about how to use object-oriented programming as a style of coding in Python so that you can understand the Python data model. Knowing this will give you a better grounding for how lists, tuples, dictionaries, pandas dataframes and other Python objects work. \n",
    "\n",
    "It is also very possible that you will be required to make your own class in the future, be it a helper class for a command line app or a custom model for `sklearn`. \n",
    "\n",
    "So whether it's **understanding the Python data model** or having confidence to **make your own classes supporting Python programming paradigms**: this is an investment worth taking.\n",
    "\n",
    "<a id='ack'></a>\n",
    "### Acknowledgements\n",
    "The example is inspired on the card deck in the excellent book:\n",
    "\n",
    "> *Fluent Python (second edition) by Luciano Ramalho (O'Reilly). Copyright 2022 Luciano Ramalho*"
   ]
  },
  {
   "cell_type": "markdown",
   "metadata": {},
   "source": [
    "---\n",
    "<a id='deck'></a>\n",
    "# Building a Deck of cards\n",
    "\n",
    "In this tutorial you will implement a class called `Deck`, which represents a (French) card deck. \n",
    "\n",
    "<img src='images/french-card.jpeg'>"
   ]
  },
  {
   "cell_type": "markdown",
   "metadata": {},
   "source": [
    "<a id='cam'></a>\n",
    "### Classes, Attributes and Methods\n",
    "\n",
    "OOP uses the concept of objects and classes. A class can be thought of as a 'blueprint' for objects. These can have their own:\n",
    "\n",
    "- Attributes: characteristics they possess\n",
    "- Methods: actions they perform"
   ]
  },
  {
   "cell_type": "markdown",
   "metadata": {},
   "source": [
    "<a id='ex-am'></a>\n",
    "### <mark>Exercise - Attributes and Methods</mark>\n",
    "\n",
    "**With the person next to you discuss the attributes and methods you would have with a deck of cards - fill in the below with 2-3 of each**\n",
    "\n",
    "What attributes does a deck of cards have?"
   ]
  },
  {
   "cell_type": "raw",
   "metadata": {},
   "source": [
    "1.\n",
    "2.\n",
    "3.\n",
    "..."
   ]
  },
  {
   "cell_type": "markdown",
   "metadata": {},
   "source": [
    "What methods (actions) can you perform on a deck of cards?"
   ]
  },
  {
   "cell_type": "raw",
   "metadata": {},
   "source": [
    "1.\n",
    "2.\n",
    "3.\n",
    "..."
   ]
  },
  {
   "cell_type": "markdown",
   "metadata": {},
   "source": [
    "<a id='list'></a>\n",
    "## Making a simple list of cards"
   ]
  },
  {
   "cell_type": "markdown",
   "metadata": {},
   "source": [
    "## Making one card\n",
    "\n",
    "First let's make just one card using [`collections.namedtuple`](https://realpython.com/python-namedtuple/) called `Card`.\n",
    "\n",
    "> `collections.namedtuple` is specially designed to make your code more Pythonic when working with tuples. With `namedtuple()`, you can create immutable sequence types that allow you to access their values using descriptive field names and the dot notation instead of unclear integer indices.\n"
   ]
  },
  {
   "cell_type": "code",
   "execution_count": null,
   "metadata": {},
   "outputs": [],
   "source": [
    "import collections\n",
    "\n",
    "Card = collections.namedtuple('Card', ['rank', 'suit'])\n",
    "        \n",
    "card_example = Card('A','♠')"
   ]
  },
  {
   "cell_type": "markdown",
   "metadata": {},
   "source": [
    "Now we have a tuple where we can select each item using it's named field."
   ]
  },
  {
   "cell_type": "code",
   "execution_count": null,
   "metadata": {},
   "outputs": [],
   "source": [
    "print(card_example)\n",
    "\n",
    "print(f'This card has rank: {card_example.rank}')\n",
    "print(f'This card has suit: {card_example.suit}')"
   ]
  },
  {
   "cell_type": "markdown",
   "metadata": {},
   "source": [
    "## Making all 52 cards\n",
    "\n",
    "Now let's think about how you would make a Deck of cards.\n",
    "\n",
    "In a deck there are four suits `♠♥♦♣` and 13 ranks `A23456789TJQK`. You need to make the cartesian product to represent the whole deck of cards (one rank for each suit).\n",
    "\n",
    "You can use a list comprehension with two for loops to get all 52 (4 $\\times$ 13) cards."
   ]
  },
  {
   "cell_type": "code",
   "execution_count": null,
   "metadata": {},
   "outputs": [],
   "source": [
    "ranks_example = 'A23456789TJQK'\n",
    "suits_example = '♠♥♦♣'\n",
    "    \n",
    "cards_example = [\n",
    "    Card(rank, suit)\n",
    "    for suit in suits_example\n",
    "    for rank in ranks_example\n",
    "]\n",
    "\n",
    "print(cards_example)"
   ]
  },
  {
   "cell_type": "markdown",
   "metadata": {},
   "source": [
    "<a id='class'></a>\n",
    "## Creating the class for `Deck`\n",
    "\n",
    "Now that you know how to create a simple list of cards you are going convert this into a class so that it can support new programming paradigms that only apply to a deck of cards."
   ]
  },
  {
   "cell_type": "markdown",
   "metadata": {},
   "source": [
    "<a id='init'></a>\n",
    "### The `__init__` method\n",
    "\n",
    "`__init__` is a reseved method in python classes. It is called as a constructor in object oriented terminology. This method is called when an object is created from a class and it allows the class to initialize the attributes of the class.\n",
    "\n",
    "The `self` variable represents the instance of the object itself. Most object-oriented languages pass this as a hidden parameter to the methods defined on an object; Python does not. You have to declare it explicitly, but you do not declare it when you instantiate the object `Deck()`.\n",
    "\n",
    "The name `self` is a convention and can take other names, but it has to be the first parameter of any function in the class."
   ]
  },
  {
   "cell_type": "code",
   "execution_count": null,
   "metadata": {},
   "outputs": [],
   "source": [
    "class Deck:\n",
    "\n",
    "    def __init__(self):\n",
    "        pass\n",
    "\n",
    "deck = Deck()\n",
    "deck"
   ]
  },
  {
   "cell_type": "markdown",
   "metadata": {},
   "source": [
    "<a id='atts'></a>\n",
    "### Adding attributes\n",
    "Let's think about the attributes\n",
    "\n",
    "- `ranks`\n",
    "- `suits`\n",
    "- `cards`\n",
    "\n",
    "Since `cards` is generated from the ranks and suits, you can initialise cards in the `__init__` method. This will also allow us to scale this class later say if you want to switch up the kind of deck we are using."
   ]
  },
  {
   "cell_type": "code",
   "execution_count": null,
   "metadata": {},
   "outputs": [],
   "source": [
    "import collections\n",
    "\n",
    "Card = collections.namedtuple('Card', ['rank', 'suit'])\n",
    "\n",
    "class Deck:\n",
    "    ranks = 'A23456789TJQK'\n",
    "    suits = '♠♥♦♣'\n",
    "    \n",
    "    def __init__(self):\n",
    "        self.cards = [\n",
    "            Card(rank, suit)\n",
    "            for suit in self.suits\n",
    "            for rank in self.ranks\n",
    "        ]"
   ]
  },
  {
   "cell_type": "markdown",
   "metadata": {},
   "source": [
    "Now that the blueprint for how to create your object is in Python, you can use this to instantiate a deck object. "
   ]
  },
  {
   "cell_type": "code",
   "execution_count": null,
   "metadata": {},
   "outputs": [],
   "source": [
    "deck = Deck()\n",
    "deck.ranks"
   ]
  },
  {
   "cell_type": "markdown",
   "metadata": {},
   "source": [
    "Note that while you have the attributes `deck.ranks`, `deck.suits` and `deck.cards` which are strings and a list, you actually have created a new type of object."
   ]
  },
  {
   "cell_type": "markdown",
   "metadata": {},
   "source": [
    "---\n",
    "<a id='custom'></a>\n",
    "## Methods"
   ]
  },
  {
   "cell_type": "markdown",
   "metadata": {},
   "source": [
    "Nice! You now have a class with attributes that initialises itself with a new pack of cards when called. Now let's add some methods!\n",
    "\n",
    "Let's add a method to deal the `Deck`. This can be used as part of a game where the highest card wins."
   ]
  },
  {
   "cell_type": "code",
   "execution_count": null,
   "metadata": {},
   "outputs": [],
   "source": [
    "class Deck:\n",
    "    ranks = '23456789TJQKA'\n",
    "    suits = '♠♥♦♣'\n",
    "    \n",
    "    def __init__(self):\n",
    "        self.cards = [\n",
    "            Card(rank, suit)\n",
    "            for suit in self.suits\n",
    "            for rank in self.ranks\n",
    "        ]\n",
    "    \n",
    "    def deal(self):\n",
    "        return self.cards.pop()\n",
    "\n",
    "deck = Deck()"
   ]
  },
  {
   "cell_type": "markdown",
   "metadata": {},
   "source": [
    "Notice the difference between *class methods* like `deck.deal()` and *class attributes* like `deck.ranks`. "
   ]
  },
  {
   "cell_type": "code",
   "execution_count": null,
   "metadata": {
    "scrolled": true
   },
   "outputs": [],
   "source": [
    "deck.deal(), len(deck.cards)"
   ]
  },
  {
   "cell_type": "markdown",
   "metadata": {},
   "source": [
    "We can repeat this, to play more cards!"
   ]
  },
  {
   "cell_type": "code",
   "execution_count": null,
   "metadata": {},
   "outputs": [],
   "source": [
    "for x in range(10):\n",
    "    print(deck.deal())\n",
    "\n",
    "print(f'{len(deck.cards)} cards are left in the deck')"
   ]
  },
  {
   "cell_type": "markdown",
   "metadata": {},
   "source": [
    "This may be familiar from working with dataframes in pandas when we think of `df.shape` vs `df.describe()`"
   ]
  },
  {
   "cell_type": "markdown",
   "metadata": {},
   "source": [
    "<a id='ex-count'></a>\n",
    "### <mark>Exercise - Add methods!</mark>\n",
    "\n",
    "1. Implement a **method** to get the number of cards in the deck."
   ]
  },
  {
   "cell_type": "code",
   "execution_count": null,
   "metadata": {},
   "outputs": [],
   "source": [
    "class Deck:\n",
    "    ranks = '23456789TJQKA'\n",
    "    suits = '♠♥♦♣'\n",
    "    \n",
    "    def __init__(self):\n",
    "        self.cards = [\n",
    "            Card(rank, suit)\n",
    "            for suit in self.suits\n",
    "            for rank in self.ranks\n",
    "        ]\n",
    "    \n",
    "    def deal(self):\n",
    "        return self.cards.pop()\n",
    "    \n",
    "    ## Add new methods here:\n",
    "\n",
    "deck = Deck()"
   ]
  },
  {
   "cell_type": "markdown",
   "metadata": {},
   "source": [
    "2. Implement a **method** that checks whether the next card is an Ace.\n",
    "\n",
    "Warning: Make sure you don't have any side effects!"
   ]
  },
  {
   "cell_type": "code",
   "execution_count": null,
   "metadata": {},
   "outputs": [],
   "source": []
  },
  {
   "cell_type": "markdown",
   "metadata": {},
   "source": [
    "3. Add an attribute called `dealt_cards`. This attribute should initialize as zero when the class is instantiated and update by adding the card that was removed each time `deal` is called."
   ]
  },
  {
   "cell_type": "code",
   "execution_count": null,
   "metadata": {},
   "outputs": [],
   "source": []
  },
  {
   "cell_type": "markdown",
   "metadata": {},
   "source": [
    "**Answers**: Uncomment and run the following to see solutions"
   ]
  },
  {
   "cell_type": "code",
   "execution_count": null,
   "metadata": {},
   "outputs": [],
   "source": [
    "# %load answers/ex-count-1.py"
   ]
  },
  {
   "cell_type": "code",
   "execution_count": null,
   "metadata": {},
   "outputs": [],
   "source": [
    "# %load answers/ex-count-2.py"
   ]
  },
  {
   "cell_type": "code",
   "execution_count": null,
   "metadata": {},
   "outputs": [],
   "source": [
    "# %load answers/ex-count-3.py"
   ]
  },
  {
   "cell_type": "markdown",
   "metadata": {},
   "source": [
    "Nice, you have written your own methods!\n",
    "\n",
    "If you finish all three exercises, take a look at the next section on mutability."
   ]
  },
  {
   "cell_type": "markdown",
   "metadata": {},
   "source": [
    "<a id=mutability></a>\n",
    "\n",
    "## Mutability\n",
    "\n",
    "Python mutability refers to being able to change an object. Simply put, a mutable object can be changed, but an immutable object cannot. \n",
    "\n",
    "<mark>**Question**:</mark> Is `deck` a mutable object?"
   ]
  },
  {
   "cell_type": "raw",
   "metadata": {},
   "source": [
    "Answer: "
   ]
  },
  {
   "cell_type": "markdown",
   "metadata": {},
   "source": [
    "### Bonus Exercises\n",
    "\n",
    "<mark>**Exercise**</mark>: Can you think of any examples in Python of objects that can be changed (mutable)? \n",
    "\n",
    "> Use the cells below to **create a Python variable of a mutable object** and show that it can be mutated."
   ]
  },
  {
   "cell_type": "code",
   "execution_count": null,
   "metadata": {},
   "outputs": [],
   "source": []
  },
  {
   "cell_type": "code",
   "execution_count": null,
   "metadata": {},
   "outputs": [],
   "source": []
  },
  {
   "cell_type": "markdown",
   "metadata": {},
   "source": [
    "<mark>**Exercise**</mark>: Can you think of any examples in Python of objects that **cannot** be changed (immutable)? \n",
    "> Use the cells below to **create a Python variable of a immutable object** and show that it cannot be mutated."
   ]
  },
  {
   "cell_type": "code",
   "execution_count": null,
   "metadata": {},
   "outputs": [],
   "source": []
  },
  {
   "cell_type": "code",
   "execution_count": null,
   "metadata": {},
   "outputs": [],
   "source": []
  },
  {
   "cell_type": "markdown",
   "metadata": {},
   "source": [
    "**Hint**: If you are stuck try creating some of the following and use methods and see if they change the object:\n",
    "- list\n",
    "- dictionary\n",
    "- tuple\n",
    "- string, int, float, bool"
   ]
  },
  {
   "cell_type": "markdown",
   "metadata": {},
   "source": [
    "<mark>Answer:</mark> Yes the class Deck has methods that mutate the original state of the deck of cards (by removing a card each time you call `deal`). "
   ]
  },
  {
   "cell_type": "markdown",
   "metadata": {},
   "source": [
    "---\n",
    "<a id='dunder'></a>\n",
    "## Dunder methods\n",
    "\n",
    "There is a more \"pythonic\" way of finding the size of the deck. \n",
    "\n",
    "At this moment, other programmers - including the future us - who use your class need to remember the name of the method to return the number of cards. \n",
    "\n",
    "To save mental effort, you are now going to implement a dunder method, that gets invoked when you use an already existing function."
   ]
  },
  {
   "cell_type": "markdown",
   "metadata": {},
   "source": [
    "<a id='len'></a>\n",
    "\n",
    "### Add the dunder method `__len__`"
   ]
  },
  {
   "cell_type": "markdown",
   "metadata": {},
   "source": [
    "We know how to get the length of a list:"
   ]
  },
  {
   "cell_type": "code",
   "execution_count": null,
   "metadata": {},
   "outputs": [],
   "source": [
    "my_list = [1, 2, 3, 4]\n",
    "len(my_list)"
   ]
  },
  {
   "cell_type": "markdown",
   "metadata": {},
   "source": [
    "Would it be possible to do the same with Deck?"
   ]
  },
  {
   "cell_type": "code",
   "execution_count": null,
   "metadata": {},
   "outputs": [],
   "source": [
    "deck = Deck()\n",
    "len(deck)"
   ]
  },
  {
   "cell_type": "markdown",
   "metadata": {},
   "source": [
    "The function `len` works in a great way and will actually call the (dunder) method `__len__` of an object.\n",
    "\n",
    "Let's change the method for counting cards to this new way."
   ]
  },
  {
   "cell_type": "code",
   "execution_count": null,
   "metadata": {},
   "outputs": [],
   "source": [
    "class Deck:\n",
    "    ranks = '23456789TJQKA'\n",
    "    suits = '♠♥♦♣'\n",
    "    \n",
    "    def __init__(self):\n",
    "        self.cards = [\n",
    "            Card(rank, suit)\n",
    "            for suit in self.suits\n",
    "            for rank in self.ranks\n",
    "        ]\n",
    "    \n",
    "    def __len__(self):\n",
    "        return len(self.cards)\n",
    "    \n",
    "    def deal(self):\n",
    "        return self.cards.pop()"
   ]
  },
  {
   "cell_type": "markdown",
   "metadata": {},
   "source": [
    "Let's try this out..."
   ]
  },
  {
   "cell_type": "code",
   "execution_count": null,
   "metadata": {},
   "outputs": [],
   "source": [
    "deck = Deck()\n",
    "\n",
    "print(len(deck))\n",
    "\n",
    "for _ in range(10): \n",
    "    deck.deal()\n",
    "\n",
    "print(len(deck))"
   ]
  },
  {
   "cell_type": "markdown",
   "metadata": {},
   "source": [
    "After we played a couple cards, we see the length has decreased.\n",
    "\n",
    "Great! Now we have an object that interacts like other python objects. We would like to have more of these tricks!"
   ]
  },
  {
   "cell_type": "markdown",
   "metadata": {},
   "source": [
    "<a id='str'></a>\n",
    "### Dunder method `__str__`"
   ]
  },
  {
   "cell_type": "markdown",
   "metadata": {},
   "source": [
    "Notice the print. It contains the class name, with module `__main__`, and to the hexidecimal id"
   ]
  },
  {
   "cell_type": "code",
   "execution_count": null,
   "metadata": {},
   "outputs": [],
   "source": [
    "print(deck)"
   ]
  },
  {
   "cell_type": "markdown",
   "metadata": {},
   "source": [
    "This is not a very useful object representation for us though - it works for computers, not for humans. Let's look at a first dunder (double-underscore) method `__str__` to control what will be printed.\n",
    "\n",
    "\n",
    "> To be a little more precise: `print` will call `str` (on all non-keyword arguments). `str` in turn will call the `__str__()` method of an object. See python docs [here](https://docs.python.org/3/library/functions.html#print) and [here](https://docs.python.org/3/library/stdtypes.html#str)."
   ]
  },
  {
   "cell_type": "markdown",
   "metadata": {},
   "source": [
    "<a id='ex-dunder'></a>\n",
    "### <mark>Exercise - Add a dunder</mark>"
   ]
  },
  {
   "cell_type": "markdown",
   "metadata": {},
   "source": [
    "1. Implement a `method` such that when you called `print(deck)` it returns the string `Deck(suits=♠♥♦♣, ranks=23456789TJQKA)`"
   ]
  },
  {
   "cell_type": "code",
   "execution_count": null,
   "metadata": {},
   "outputs": [],
   "source": []
  },
  {
   "cell_type": "markdown",
   "metadata": {},
   "source": [
    "2. Look up the dunder method [`__getitem__`](https://docs.python.org/3/reference/datamodel.html#object.__getitem__):\n",
    "\n",
    "    - Implement it for your deck so that you can run `deck[0]` to retrieve the first card in the deck. \n",
    "\n",
    "    - Try out other ways of slicing the deck (eg. select the first 5 cards)"
   ]
  },
  {
   "cell_type": "code",
   "execution_count": null,
   "metadata": {},
   "outputs": [],
   "source": []
  },
  {
   "cell_type": "markdown",
   "metadata": {},
   "source": [
    "3. From the link above, find a dunder method that will be implicitly invoked to set a value to an item of a list. I.e. we should be able to execute the code:\n",
    "```python\n",
    "deck[0] = Card('A', '♦')\n",
    "```\n",
    "\n",
    "**Bonus**: Import the function `random.shuffle` and execute it on the deck of cards. What happens to `deck._cards`?"
   ]
  },
  {
   "cell_type": "code",
   "execution_count": null,
   "metadata": {},
   "outputs": [],
   "source": []
  },
  {
   "cell_type": "markdown",
   "metadata": {},
   "source": [
    "**Answers**: Uncomment and run the following to see solutions"
   ]
  },
  {
   "cell_type": "code",
   "execution_count": null,
   "metadata": {},
   "outputs": [],
   "source": [
    "# %load answers/ex-dunder-1.py"
   ]
  },
  {
   "cell_type": "code",
   "execution_count": null,
   "metadata": {},
   "outputs": [],
   "source": [
    "# %load answers/ex-dunder-2.py"
   ]
  },
  {
   "cell_type": "code",
   "execution_count": null,
   "metadata": {},
   "outputs": [],
   "source": [
    "# %load answers/ex-dunder-3.py"
   ]
  },
  {
   "cell_type": "markdown",
   "metadata": {},
   "source": [
    "### A note on `__getitem__` and `__setitem__`\n",
    "\n",
    "These two dunder methods are the harder ones to understand the implementation when thinking about your card deck. \n",
    "\n",
    "- `__getitem__` is a method used for getting the value of an item\n",
    "- `__setitem__` is a method used for assigning a value to an item\n",
    "\n",
    "More information and examples are covered in the notebook [01_getitem_and_setitem](extras/01_getitem_and_setitem.ipynb) in the `extras/` folder.\n",
    "\n",
    "### Further dunder methods\n",
    "\n",
    "You are getting closer and closer to a \"pythonic\" card deck! In addition to the ones you've seen already, there are many more interesting dunder methods such as:\n",
    "\n",
    "- `__iter__` and `__next__`\n",
    "- `__repr__`\n",
    "- `__add__`, `__sub__`, or `__mul__`\n",
    "- `__eq__`, `__ne__`, `__lt__`, `__gt__`, `__le__` or `__ge__`\n",
    "\n",
    "For the sake of time and to avoid repetitive exercises of applying different dunder methods, you won't be asked to implement any of these. Instead we recommend looking at the examples used in ***Fluent Python*** and trying them out for yourselves at a later time."
   ]
  },
  {
   "cell_type": "markdown",
   "metadata": {},
   "source": [
    "---\n",
    "<a id='better'></a>\n",
    "## Better integration - Leading underscore attributes\n",
    "\n",
    "So far we've managed to build a solid class but there a few things we can do that is considered more pythonic.\n",
    "\n",
    "Currently we can see all attributes and methods available by instantiating deck, writing `deck.` and hitting `<tab>`:"
   ]
  },
  {
   "cell_type": "code",
   "execution_count": null,
   "metadata": {},
   "outputs": [],
   "source": []
  },
  {
   "cell_type": "markdown",
   "metadata": {},
   "source": [
    "So that access the deck of cards outside the class itself:"
   ]
  },
  {
   "cell_type": "code",
   "execution_count": null,
   "metadata": {},
   "outputs": [],
   "source": [
    "deck.cards[:5]"
   ]
  },
  {
   "cell_type": "markdown",
   "metadata": {},
   "source": [
    "However accessing the cards variable outside the class is a little hacky and dangerous. We only want cards to be assigned when the class is first instantiated, but we could easily accidentally this attribute..."
   ]
  },
  {
   "cell_type": "code",
   "execution_count": null,
   "metadata": {},
   "outputs": [],
   "source": [
    "deck.cards = 'my cards'\n",
    "deck.cards"
   ]
  },
  {
   "cell_type": "markdown",
   "metadata": {},
   "source": [
    "<a id=leading></a>\n",
    "\n",
    "### Leading underscore\n",
    "\n",
    "To signal that an attribute should not be 'touched' externally to the class we add a leading underscore - this indicates a **protected** variable."
   ]
  },
  {
   "cell_type": "code",
   "execution_count": null,
   "metadata": {},
   "outputs": [],
   "source": [
    "class Deck:\n",
    "    ranks = '23456789TJQKA'\n",
    "    suits = '♠♥♦♣'\n",
    "    \n",
    "    def __init__(self):\n",
    "        self._cards = [\n",
    "            Card(rank, suit)\n",
    "            for suit in self.suits\n",
    "            for rank in self.ranks\n",
    "        ]\n",
    "    \n",
    "    def deal(self):\n",
    "        return self._cards.pop()\n",
    "\n",
    "deck = Deck()"
   ]
  },
  {
   "cell_type": "markdown",
   "metadata": {},
   "source": [
    "Note that it is still possible to access the `_cards` attribute, and therefore it is possible to overwrite it. However the leading underscore is a clear signal to any user of the class that this attribute ***should not be accessed outside of the class*** and therefore great care should be taken to not overwrite the variable."
   ]
  },
  {
   "cell_type": "markdown",
   "metadata": {},
   "source": [
    "<a id=protected></a>\n",
    "\n",
    "### Protecting variables further\n",
    "\n",
    "For Python, using one leading underscore is considered enough to signal to the user that this attribute should not be used/overwritten.\n",
    "\n",
    "Unlike Java with the private modifier, there **is no way to create private variables in Python**. In the notebook [02_Protect_Private_Variables](extras/02_Protect_Private_Variables.ipynb), further ways to protect variables, along with consideration around Pythonic practices, are discussed and demonstrated."
   ]
  },
  {
   "cell_type": "markdown",
   "metadata": {},
   "source": [
    "---\n",
    "<a id='parent-child'></a>\n",
    "\n",
    "## Parent and child classes\n",
    "Until now we only considered a French card with 52 cards. But maybe somebody would like to use the deck for another game with custom cards. Could we make the deck more generic, while still keeping the logic of the French card deck?\n",
    "\n",
    "<a id='parent'></a>\n",
    "### Creating a parent Deck\n",
    "\n",
    "Yes! We can do so by creating a generic *parent* class called \"Deck\":"
   ]
  },
  {
   "cell_type": "code",
   "execution_count": null,
   "metadata": {},
   "outputs": [],
   "source": [
    "class Deck:\n",
    "   \n",
    "    def __len__(self):\n",
    "        return len(self._cards)\n",
    "        \n",
    "    def __str__(self):\n",
    "        return f'Deck(suits={self.suits}, ranks={self.ranks})'\n",
    "    \n",
    "    def __getitem__(self, position):\n",
    "        return self._cards[position]\n",
    "    \n",
    "    def __setitem__(self, ind, value):\n",
    "        self._cards[ind] = value\n",
    "    \n",
    "    def deal(self):\n",
    "        return self._cards.pop()\n",
    "    \n",
    "    def check_ace(self):\n",
    "        return self.cards[-1].rank == 'A'"
   ]
  },
  {
   "cell_type": "markdown",
   "metadata": {},
   "source": [
    "<a id='child'></a>\n",
    "\n",
    "### Creating a child deck\n",
    "\n",
    "The we can make a more specific *child* class called \"French52Deck\" by passing the parent class name as an argument when defining the child class."
   ]
  },
  {
   "cell_type": "code",
   "execution_count": null,
   "metadata": {},
   "outputs": [],
   "source": [
    "class French52Deck(Deck):\n",
    "    ranks = '23456789TJQKA'\n",
    "    suits = '♠♥♦♣'\n",
    "    \n",
    "    def __init__(self):\n",
    "        Card = collections.namedtuple('Card', ['rank', 'suit'])\n",
    "        self._cards = [\n",
    "            Card(rank, suit)\n",
    "            for suit in self.suits\n",
    "            for rank in self.ranks\n",
    "        ]\n",
    "        \n",
    "french_deck = French52Deck()\n",
    "for card in french_deck[:5]:\n",
    "    print(card)"
   ]
  },
  {
   "cell_type": "markdown",
   "metadata": {},
   "source": [
    "*note:* `__init__()` function is called automatically every time the class is being used to create a new object, but we do not have to use it. Importantly though, a child's `__init__()` function overrides the inheritance of the parent's `__init__()` function."
   ]
  },
  {
   "cell_type": "markdown",
   "metadata": {},
   "source": [
    "<a id=ex-theme></a>\n",
    "\n",
    "## <mark>Exercise: Make a themed card set</mark>\n",
    "\n",
    "Now you can also make another deck, with a different theme but keeping all the functionality from the parent.\n",
    "Create a new deck of cards with a certain theme - suits are the hogwarts houses, ranks are the characters etc.\n",
    "\n",
    "<img src=images/avatar.png align=right width=400px style=padding-left:20px>\n",
    "\n",
    "If you don't have a deck of cards you are dying to make, you can use the **Avatar: The Last Air Bender** example.\n",
    "\n",
    "Let's make a deck of cards with the following suits:\n",
    "- `Water`, `Air`, `Fire`, `Earth`\n",
    "\n",
    "And the following ranks:\n",
    "- `2`, `3`, `4`, `5`, `6`, `7`, `8`, `9`, `T`, `Sokka`, `Katara`, `Zuko`, `Aang`"
   ]
  },
  {
   "cell_type": "code",
   "execution_count": null,
   "metadata": {},
   "outputs": [],
   "source": []
  },
  {
   "cell_type": "markdown",
   "metadata": {},
   "source": [
    "**Answers**: Uncomment and run the following to see a solution for the Avatar deck"
   ]
  },
  {
   "cell_type": "code",
   "execution_count": null,
   "metadata": {},
   "outputs": [],
   "source": [
    "# %load answers/ex-themed-card-set.py"
   ]
  },
  {
   "cell_type": "markdown",
   "metadata": {},
   "source": [
    "### <mark>Bonus Exercises: More methods</mark>\n",
    "\n",
    "1. Implement an `__add__` function to combine two decks."
   ]
  },
  {
   "cell_type": "code",
   "execution_count": null,
   "metadata": {
    "scrolled": true
   },
   "outputs": [],
   "source": []
  },
  {
   "cell_type": "markdown",
   "metadata": {},
   "source": [
    "2. Make a class called `Dealer` that takes a Deck, shuffles it and is prepared to deal `n` number of cards. (For example in a game of 7-card rummy, the players each get 7 cards once the deck is shuffled)."
   ]
  },
  {
   "cell_type": "code",
   "execution_count": null,
   "metadata": {},
   "outputs": [],
   "source": []
  },
  {
   "cell_type": "markdown",
   "metadata": {},
   "source": [
    "**Hints**:\n",
    "- When initialized the class should use an instantiated deck and an integer to specific the number of cards\n",
    "- The `__init__` method should \n",
    "    - take in two parameters: `deck` and `num_cards`\n",
    "    - create the attributes `self._deck = deck` and `self._num_cards = num_cards`\n",
    "- Hand a `deal_hand` method that returns a list of `n` number of cards (as defined by `self._num_cards`)\n",
    "- The `deal_hand` method should also remove these cards from the `self._deck` (hint: use `self._deck.deal()` for each card to deal)"
   ]
  },
  {
   "cell_type": "markdown",
   "metadata": {},
   "source": [
    "**Answers**"
   ]
  },
  {
   "cell_type": "code",
   "execution_count": null,
   "metadata": {},
   "outputs": [],
   "source": [
    "# %load answers/ex-bonus-1-add.py"
   ]
  },
  {
   "cell_type": "code",
   "execution_count": null,
   "metadata": {},
   "outputs": [],
   "source": [
    "# %load answers/ex-bonus-2-dealer.py"
   ]
  },
  {
   "cell_type": "markdown",
   "metadata": {},
   "source": [
    "<img src=images/conclusion.png align=right>\n",
    "<a id=conclusion></a>\n",
    "\n",
    "# Conclusion\n",
    "\n",
    "In this notebook you have written class definitions that act as blueprints for the creation of custom objects. Now that you know this fundamental building blocks to understand how objects in Python are implemented. \n",
    "\n",
    "***Everything in Python is an object***\n",
    "    \n",
    "In particular, this notebook has covered:\n",
    "\n",
    "- What is object oriented programming in Python and the benefit of learning this design pattern.\n",
    "- Building a class and instantiating objects by working with a deck of cards.\n",
    "- Adding attributes and methods \n",
    "- Understanding the difference between mutable and immutable objects.\n",
    "- Using dunder methods for consistent, Pythonic applications\n",
    "- Using leading underscores for better integration\n",
    "- Creating parent and child class to benefit from inheritance\n",
    "\n",
    "<!-- <img src=images/next-steps.png align=right width=300px> -->\n",
    "\n",
    "\n",
    "## Next Steps\n",
    "\n",
    "- Look out for these programming paradigms in your every code\n",
    "- Look up the Python source code - do you recognise anything from this tutorial there? (good example: pd.DataFrame.shape)\n",
    "- Extend a library and implement your own custom class \n",
    "- Read the book Fluent Python for more examples and to learn more about the Python data model\n",
    "\n",
    "As mentioned before this notebook, including the examples and exercises used, is inspired by the book\n",
    "> *Fluent Python (second edition) by Luciano Ramalho (O'Reilly). Copyright 2022 Luciano Ramalho*"
   ]
  }
 ],
 "metadata": {
  "kernelspec": {
   "display_name": "Python 3 (ipykernel)",
   "language": "python",
   "name": "python3"
  },
  "language_info": {
   "codemirror_mode": {
    "name": "ipython",
    "version": 3
   },
   "file_extension": ".py",
   "mimetype": "text/x-python",
   "name": "python",
   "nbconvert_exporter": "python",
   "pygments_lexer": "ipython3",
   "version": "3.9.7"
  }
 },
 "nbformat": 4,
 "nbformat_minor": 4
}
