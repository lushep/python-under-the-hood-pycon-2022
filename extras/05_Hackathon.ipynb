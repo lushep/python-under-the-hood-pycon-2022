{
 "cells": [
  {
   "cell_type": "markdown",
   "id": "31b5741a",
   "metadata": {},
   "source": [
    "<img src=../images/cards.png align=right width=170px>\n",
    "\n",
    "# Hackathons\n",
    "\n",
    "There are two hackathons in this notebook:\n",
    "\n",
    "1. Make a card game with a Deck of cards\n",
    "2. Make a bank account\n",
    "\n",
    "## 1. Make a card game with a Deck of cards\n",
    "\n",
    "In this hackathon you will be extending the already existing deck of cards below to create a game.\n",
    "\n",
    "The game goes like this:\n",
    "- 2+ players in a game\n",
    "- Each player gets one full deck of cards, shuffled\n",
    "- Each player deals 15 cards and discards them\n",
    "- With the remaining cards, the players add up the total number of face cards (J, Q, K)\n",
    "- The player with the most face cards wins\n",
    "- If there is a draw, the player with the most Ks wins (then most Qs, Js etc.)\n",
    "\n",
    "The goal of this challenge is to use the `__lt__`, `__gt__`, `__eq__`, `__ge__`, `__le__` dunder methods to compare the decks with the remaining cards."
   ]
  },
  {
   "cell_type": "code",
   "execution_count": 18,
   "id": "2ad4bd7b",
   "metadata": {},
   "outputs": [],
   "source": [
    "# %load answers/ex-bonus-1-add.py\n",
    "import collections \n",
    "from random import shuffle\n",
    "\n",
    "\n",
    "class Deck:\n",
    "   \n",
    "    def __len__(self):\n",
    "        return len(self._cards)\n",
    "        \n",
    "    def __str__(self):\n",
    "        return f'Deck(suits={self.suits}, ranks={self.ranks})'\n",
    "    \n",
    "    def __getitem__(self, position):\n",
    "        return self._cards[position]\n",
    "    \n",
    "    def __setitem__(self, ind, val):\n",
    "        self._cards[ind] = val\n",
    "    \n",
    "    def __add__(self, other):\n",
    "        return self._cards + other._cards\n",
    "    \n",
    "    def deal(self):\n",
    "        return self._cards.pop()\n",
    "    \n",
    "    def check_ace(self):\n",
    "        return self.cards[-1].rank == 'A'\n",
    "        \n",
    "        \n",
    "class French52Deck(Deck):\n",
    "    ranks = '23456789TJQKA'\n",
    "    suits = '♠♥♦♣'\n",
    "    \n",
    "    def __init__(self):\n",
    "        Card = collections.namedtuple('Card', ['rank', 'suit'])\n",
    "        self._cards = [\n",
    "            Card(rank, suit)\n",
    "            for suit in self.suits\n",
    "            for rank in self.ranks\n",
    "        ]\n",
    "        \n",
    "class Dealer():\n",
    "    \n",
    "    def __init__(self, deck, num_cards=0):\n",
    "        self._deck = deck\n",
    "        shuffle(self._deck)\n",
    "        self._num_cards = num_cards\n",
    "        \n",
    "    def deal_hand(self):\n",
    "        return [self._deck.deal() for n in range(self._num_cards)]"
   ]
  },
  {
   "cell_type": "markdown",
   "id": "8efd51c3",
   "metadata": {},
   "source": [
    "## 2. Make a bank account\n",
    "\n",
    "Using what you've learned about object oriented programming, make a class that works as a bank account.\n",
    "\n",
    "Your banking account should have the following properties (and any other functionality you can think of):\n",
    "- When opened (initialized) it should have a starting balance of 0 \n",
    "- The owner should be able to \n",
    "    - deposit money (add money to the balance)\n",
    "    - withdraw money, as long as the withdraw amount doesn't put them over their overdraft limit\n",
    "    - increase their overdraft limit (starts at 0) by 100 each time"
   ]
  },
  {
   "cell_type": "code",
   "execution_count": 20,
   "id": "02fec81a",
   "metadata": {},
   "outputs": [],
   "source": [
    "class BankAccount:\n",
    "    \n",
    "    def __init__(self, balance=0):\n",
    "        self.balance = balance"
   ]
  }
 ],
 "metadata": {
  "kernelspec": {
   "display_name": "Python 3 (ipykernel)",
   "language": "python",
   "name": "python3"
  },
  "language_info": {
   "codemirror_mode": {
    "name": "ipython",
    "version": 3
   },
   "file_extension": ".py",
   "mimetype": "text/x-python",
   "name": "python",
   "nbconvert_exporter": "python",
   "pygments_lexer": "ipython3",
   "version": "3.9.7"
  }
 },
 "nbformat": 4,
 "nbformat_minor": 5
}
